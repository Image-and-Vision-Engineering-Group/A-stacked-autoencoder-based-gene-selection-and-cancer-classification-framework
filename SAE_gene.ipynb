{
  "nbformat": 4,
  "nbformat_minor": 0,
  "metadata": {
    "colab": {
      "provenance": []
    },
    "kernelspec": {
      "name": "python3",
      "display_name": "Python 3"
    },
    "language_info": {
      "name": "python"
    }
  },
  "cells": [
    {
      "cell_type": "code",
      "execution_count": 1,
      "metadata": {
        "id": "AWuu6v7KAMH0"
      },
      "outputs": [],
      "source": [
        "import keras\n",
        "from keras import layers\n",
        "from keras.models import Model, Sequential\n",
        "from keras.layers import Input, Dense, Activation, AveragePooling2D\n",
        "from keras import regularizers\n",
        "from keras.optimizers import Adam\n",
        "import pandas as pd"
      ]
    },
    {
      "cell_type": "code",
      "source": [
        "from sklearn.linear_model import LogisticRegression\n",
        "from sklearn import svm\n",
        "from sklearn.ensemble import RandomForestClassifier\n",
        "\n",
        "from sklearn.model_selection import train_test_split\n",
        "from sklearn.metrics import accuracy_score\n",
        "from sklearn.tree import DecisionTreeClassifier\n",
        "from sklearn import preprocessing\n",
        "from sklearn.discriminant_analysis import QuadraticDiscriminantAnalysis\n",
        "from sklearn.naive_bayes import GaussianNB\n",
        "from sklearn.ensemble import AdaBoostClassifier\n",
        "from sklearn.model_selection import KFold\n",
        "from sklearn.model_selection import cross_val_score\n",
        "from numpy import mean\n",
        "from numpy import std\n",
        "from sklearn.datasets import make_classification\n",
        "from sklearn.model_selection import KFold\n",
        "from sklearn.model_selection import cross_val_score\n",
        "\n",
        "from sklearn.discriminant_analysis import LinearDiscriminantAnalysis\n",
        "from sklearn.gaussian_process import GaussianProcessClassifier\n",
        "from sklearn.gaussian_process.kernels import RBF\n",
        "kernel = 1.0 * RBF(1.0)\n",
        "from sklearn.preprocessing import MinMaxScaler\n",
        "scaler = MinMaxScaler(feature_range=(0, 1))\n",
        "from sklearn import preprocessing\n"
      ],
      "metadata": {
        "id": "9o-f3y1PVnu7"
      },
      "execution_count": 2,
      "outputs": []
    },
    {
      "cell_type": "code",
      "source": [
        "# load the dataset\n",
        "import pandas as pd\n",
        "from scipy.io import arff\n",
        "data = arff.loadarff('/content/drive/MyDrive/final_paper/MLL.arff') # selcet labeled data according to application\n",
        "df = pd.DataFrame(data[0])\n",
        "df.shape"
      ],
      "metadata": {
        "colab": {
          "base_uri": "https://localhost:8080/"
        },
        "id": "IVg8osf2Vohw",
        "outputId": "fb61e787-3835-46f2-94fa-e3277fb541e9"
      },
      "execution_count": 3,
      "outputs": [
        {
          "output_type": "execute_result",
          "data": {
            "text/plain": [
              "(72, 12583)"
            ]
          },
          "metadata": {},
          "execution_count": 3
        }
      ]
    },
    {
      "cell_type": "code",
      "source": [
        "from sklearn import preprocessing\n",
        "print( df.iloc[:,-1].unique()) # to check number of classes in the dataset\n",
        "# label_encoder object knows how to understand word labels.\n",
        "label_encoder = preprocessing.LabelEncoder()\n",
        "# Encode labels in column 'species'.\n",
        "df.iloc[:,-1]= label_encoder.fit_transform(df.iloc[:,-1])\n",
        "df.iloc[:,-1].unique()"
      ],
      "metadata": {
        "id": "2yfKhKJ0CGwJ",
        "colab": {
          "base_uri": "https://localhost:8080/"
        },
        "outputId": "cebe5eb5-89ab-4586-e6b6-ceb0c5aff0e5"
      },
      "execution_count": 4,
      "outputs": [
        {
          "output_type": "stream",
          "name": "stdout",
          "text": [
            "[b'ALL' b'MLL' b'AML']\n"
          ]
        },
        {
          "output_type": "execute_result",
          "data": {
            "text/plain": [
              "array([0, 2, 1], dtype=object)"
            ]
          },
          "metadata": {},
          "execution_count": 4
        }
      ]
    },
    {
      "cell_type": "code",
      "source": [
        "# separate dataset according to classes\n",
        "x1 = df[df.iloc[:,-1] == 0]\n",
        "x2 = df[df.iloc[:,-1] == 1]\n",
        "x3 = df[df.iloc[:,-1] == 2]\n",
        "print(x1.shape,x2.shape,x3.shape) # to check number of samples in each class"
      ],
      "metadata": {
        "id": "XRnZSKiQEU59",
        "colab": {
          "base_uri": "https://localhost:8080/"
        },
        "outputId": "0a7c6690-07b8-45f5-8a01-aa03c3ed22d9"
      },
      "execution_count": 5,
      "outputs": [
        {
          "output_type": "stream",
          "name": "stdout",
          "text": [
            "(24, 12583) (28, 12583) (20, 12583)\n"
          ]
        }
      ]
    },
    {
      "cell_type": "code",
      "source": [
        "#separate the target classes\n",
        "Y1 = x1.iloc[:,-1]\n",
        "Y2 = x2.iloc[:,-1]\n",
        "Y3 = x3.iloc[:,-1]\n",
        "# remove the class label\n",
        "del x1[x1.columns[-1]]\n",
        "del x2[x2.columns[-1]]\n",
        "del x3[x3.columns[-1]]\n",
        "print(x1.shape,x2.shape,x3.shape) # to check number of samples in each class without class labels"
      ],
      "metadata": {
        "id": "ztzO11njJm1W",
        "colab": {
          "base_uri": "https://localhost:8080/"
        },
        "outputId": "5144599c-ec33-4d87-a1b4-49f4d9325225"
      },
      "execution_count": 6,
      "outputs": [
        {
          "output_type": "stream",
          "name": "stdout",
          "text": [
            "(24, 12582) (28, 12582) (20, 12582)\n"
          ]
        }
      ]
    },
    {
      "cell_type": "code",
      "source": [
        "#Select samples for augmentation\n",
        "n=10\n",
        "df1=x1.sample(n =10)\n",
        "df2=x2.sample(n = 10)\n",
        "df3=x3.sample(n = 10)\n"
      ],
      "metadata": {
        "id": "kyW3VEE2EYAd"
      },
      "execution_count": 7,
      "outputs": []
    },
    {
      "cell_type": "code",
      "source": [
        "import numpy as np\n",
        "mu, sigma = 0, 0.1\n",
        "# creating a noise with the same dimension as the dataset\n",
        "noise1 = np.random.normal(mu, sigma, [10,x1.shape[1]])\n",
        "noise2 = np.random.normal(mu, sigma, [10,x1.shape[1]])\n",
        "noise3 = np.random.normal(mu, sigma, [10,x1.shape[1]])\n",
        "print(noise1.shape,noise2.shape,noise3.shape) # check the shape of the noise"
      ],
      "metadata": {
        "colab": {
          "base_uri": "https://localhost:8080/"
        },
        "id": "6ukk92IGEm8s",
        "outputId": "6471d0af-bcf4-45c6-dff0-cb401aa315d8"
      },
      "execution_count": 8,
      "outputs": [
        {
          "output_type": "stream",
          "name": "stdout",
          "text": [
            "(10, 12582) (10, 12582) (10, 12582)\n"
          ]
        }
      ]
    },
    {
      "cell_type": "code",
      "source": [
        "# add noise to selected samples\n",
        "noise_factor = 0.1\n",
        "DF1 =  df1+ (noise_factor*noise1)\n",
        "DF2=   df2+ (noise_factor*noise2)\n",
        "DF3=   df3+ (noise_factor*noise3)\n"
      ],
      "metadata": {
        "id": "2aD2dADTGHKf"
      },
      "execution_count": 9,
      "outputs": []
    },
    {
      "cell_type": "code",
      "source": [
        "# add noisy sample to original data\n",
        "verti_df1= pd.concat([x1, DF1], axis=0)\n",
        "verti_df2= pd.concat([x2, DF2], axis=0)\n",
        "verti_df3= pd.concat([x3, DF3], axis=0)\n",
        "print(verti_df1.shape,verti_df2.shape,verti_df3.shape)# check the shape of the augmented data"
      ],
      "metadata": {
        "colab": {
          "base_uri": "https://localhost:8080/"
        },
        "id": "diRFP5NeGZCh",
        "outputId": "93752297-b04d-4428-98ea-a041513009df"
      },
      "execution_count": 10,
      "outputs": [
        {
          "output_type": "stream",
          "name": "stdout",
          "text": [
            "(34, 12582) (38, 12582) (30, 12582)\n"
          ]
        }
      ]
    },
    {
      "cell_type": "code",
      "source": [
        "#merge all samples to new augmented data\n",
        "new_data=pd.concat([verti_df1,verti_df2,verti_df3],axis=0)\n",
        "new_data.shape"
      ],
      "metadata": {
        "colab": {
          "base_uri": "https://localhost:8080/"
        },
        "id": "wxQrOCULHLyz",
        "outputId": "0f74bb07-0831-4d78-9d8d-fd5a458b17d3"
      },
      "execution_count": 11,
      "outputs": [
        {
          "output_type": "execute_result",
          "data": {
            "text/plain": [
              "(102, 12582)"
            ]
          },
          "metadata": {},
          "execution_count": 11
        }
      ]
    },
    {
      "cell_type": "code",
      "source": [
        "#create equal class labels\n",
        "y1= Y1.sample(n = 10)\n",
        "y2= Y2.sample(n = 10)\n",
        "y3= Y3.sample(n = 10)\n",
        "\n",
        "new_y1= pd.concat([Y1,y1],axis=0)\n",
        "new_y2=pd.concat([Y2,y2],axis=0)\n",
        "new_y3=pd.concat([Y3,y3],axis=0)\n",
        "new_Class= pd.concat([new_y1,new_y2,new_y3],axis=0)\n",
        "new_Class.shape"
      ],
      "metadata": {
        "colab": {
          "base_uri": "https://localhost:8080/"
        },
        "id": "sAb5kIqOHzQ6",
        "outputId": "03e3ad34-df0d-4c50-810e-00a1cbd04e0a"
      },
      "execution_count": 12,
      "outputs": [
        {
          "output_type": "execute_result",
          "data": {
            "text/plain": [
              "(102,)"
            ]
          },
          "metadata": {},
          "execution_count": 12
        }
      ]
    },
    {
      "cell_type": "code",
      "source": [
        "#merge class label to dataset to create augmented dataset(data with label)\n",
        "from sklearn.utils import shuffle\n",
        "NEW_dataset=new_data.reset_index(drop=True).merge(new_Class.reset_index(drop=True), left_index=True, right_index=True)\n",
        "NEW_dataset= (shuffle(NEW_dataset)).reset_index(drop=True)"
      ],
      "metadata": {
        "id": "Xedu8mtFI9vr"
      },
      "execution_count": 13,
      "outputs": []
    },
    {
      "cell_type": "code",
      "source": [
        "NEW_dataset.shape"
      ],
      "metadata": {
        "colab": {
          "base_uri": "https://localhost:8080/"
        },
        "id": "RoDVKD3rKg_B",
        "outputId": "6f102b50-06ac-4855-b9ae-14daa375c7e4"
      },
      "execution_count": 14,
      "outputs": [
        {
          "output_type": "execute_result",
          "data": {
            "text/plain": [
              "(102, 12583)"
            ]
          },
          "metadata": {},
          "execution_count": 14
        }
      ]
    },
    {
      "cell_type": "code",
      "source": [
        "print(NEW_dataset.shape)\n",
        "dataset= NEW_dataset.values\n",
        "X = dataset[:,:-1]\n",
        "Y = dataset[:,-1]\n",
        "print(X.shape,Y.shape)\n",
        "input_dim=X.shape[1]\n",
        "print(input_dim)"
      ],
      "metadata": {
        "colab": {
          "base_uri": "https://localhost:8080/"
        },
        "id": "QDFYvBUZKqFu",
        "outputId": "9edad3b8-3c04-446d-9ce2-b4e7cc361453"
      },
      "execution_count": 15,
      "outputs": [
        {
          "output_type": "stream",
          "name": "stdout",
          "text": [
            "(102, 12583)\n",
            "(102, 12582) (102,)\n",
            "12582\n"
          ]
        }
      ]
    },
    {
      "cell_type": "code",
      "source": [
        "from sklearn.preprocessing import MinMaxScaler\n",
        "from sklearn.model_selection import train_test_split\n",
        "X_train, X_test, y_train, y_test = train_test_split(X, Y, test_size=0.20)\n",
        "scaler = MinMaxScaler(feature_range=(0, 1))\n",
        "X_scl_train = scaler.fit_transform(X_train)\n",
        "X_scl_test = scaler.fit_transform(X_test)\n",
        "X_scl = scaler.fit_transform(X)"
      ],
      "metadata": {
        "id": "Qx3LJFQNKqIq"
      },
      "execution_count": 16,
      "outputs": []
    },
    {
      "cell_type": "code",
      "source": [
        "input_data = keras.Input(shape=(input_dim,))\n",
        "encoded = layers.Dense(1024, activation='relu')(input_data)\n",
        "output = layers.Dense(input_dim, activation='sigmoid')(encoded)\n",
        "en_m=keras.Model(input_data,encoded)\n",
        "#encoder_m.summary()\n",
        "auto_m = keras.Model(input_data, output)\n",
        "auto_m.summary()"
      ],
      "metadata": {
        "colab": {
          "base_uri": "https://localhost:8080/"
        },
        "id": "ujbaF9IRKqMU",
        "outputId": "ee8a72fe-f8aa-47bf-cbbb-dc88824dfa1a"
      },
      "execution_count": 17,
      "outputs": [
        {
          "output_type": "stream",
          "name": "stdout",
          "text": [
            "Model: \"model_1\"\n",
            "_________________________________________________________________\n",
            " Layer (type)                Output Shape              Param #   \n",
            "=================================================================\n",
            " input_1 (InputLayer)        [(None, 12582)]           0         \n",
            "                                                                 \n",
            " dense (Dense)               (None, 1024)              12884992  \n",
            "                                                                 \n",
            " dense_1 (Dense)             (None, 12582)             12896550  \n",
            "                                                                 \n",
            "=================================================================\n",
            "Total params: 25781542 (98.35 MB)\n",
            "Trainable params: 25781542 (98.35 MB)\n",
            "Non-trainable params: 0 (0.00 Byte)\n",
            "_________________________________________________________________\n"
          ]
        }
      ]
    },
    {
      "cell_type": "code",
      "source": [],
      "metadata": {
        "id": "ymV1FwrOL-iJ"
      },
      "execution_count": null,
      "outputs": []
    },
    {
      "cell_type": "code",
      "source": [
        "auto_m.compile(optimizer='adam', loss='binary_crossentropy')\n",
        "auto_m.fit(X_scl_train, X_scl_train,\n",
        "                epochs=100,\n",
        "                batch_size=30,\n",
        "                shuffle=True,\n",
        "                validation_data=(X_scl_test, X_scl_test))"
      ],
      "metadata": {
        "colab": {
          "base_uri": "https://localhost:8080/"
        },
        "id": "zzXPnml0MEcV",
        "outputId": "9e3a1299-b1b2-45e0-e6df-6b5862d1af5b"
      },
      "execution_count": 18,
      "outputs": [
        {
          "output_type": "stream",
          "name": "stdout",
          "text": [
            "Epoch 1/100\n",
            "3/3 [==============================] - 5s 1s/step - loss: 0.6826 - val_loss: 0.6989\n",
            "Epoch 2/100\n",
            "3/3 [==============================] - 1s 468ms/step - loss: 0.6378 - val_loss: 0.6693\n",
            "Epoch 3/100\n",
            "3/3 [==============================] - 1s 471ms/step - loss: 0.6267 - val_loss: 0.6650\n",
            "Epoch 4/100\n",
            "3/3 [==============================] - 1s 470ms/step - loss: 0.6202 - val_loss: 0.6553\n",
            "Epoch 5/100\n",
            "3/3 [==============================] - 2s 747ms/step - loss: 0.6127 - val_loss: 0.6523\n",
            "Epoch 6/100\n",
            "3/3 [==============================] - 2s 729ms/step - loss: 0.6069 - val_loss: 0.6498\n",
            "Epoch 7/100\n",
            "3/3 [==============================] - 2s 663ms/step - loss: 0.6034 - val_loss: 0.6448\n",
            "Epoch 8/100\n",
            "3/3 [==============================] - 1s 475ms/step - loss: 0.5999 - val_loss: 0.6409\n",
            "Epoch 9/100\n",
            "3/3 [==============================] - 1s 477ms/step - loss: 0.5961 - val_loss: 0.6385\n",
            "Epoch 10/100\n",
            "3/3 [==============================] - 1s 471ms/step - loss: 0.5928 - val_loss: 0.6367\n",
            "Epoch 11/100\n",
            "3/3 [==============================] - 1s 473ms/step - loss: 0.5902 - val_loss: 0.6365\n",
            "Epoch 12/100\n",
            "3/3 [==============================] - 1s 456ms/step - loss: 0.5877 - val_loss: 0.6325\n",
            "Epoch 13/100\n",
            "3/3 [==============================] - 1s 460ms/step - loss: 0.5849 - val_loss: 0.6313\n",
            "Epoch 14/100\n",
            "3/3 [==============================] - 1s 493ms/step - loss: 0.5827 - val_loss: 0.6308\n",
            "Epoch 15/100\n",
            "3/3 [==============================] - 2s 751ms/step - loss: 0.5799 - val_loss: 0.6279\n",
            "Epoch 16/100\n",
            "3/3 [==============================] - 2s 761ms/step - loss: 0.5778 - val_loss: 0.6268\n",
            "Epoch 17/100\n",
            "3/3 [==============================] - 2s 484ms/step - loss: 0.5759 - val_loss: 0.6271\n",
            "Epoch 18/100\n",
            "3/3 [==============================] - 1s 473ms/step - loss: 0.5742 - val_loss: 0.6232\n",
            "Epoch 19/100\n",
            "3/3 [==============================] - 1s 462ms/step - loss: 0.5726 - val_loss: 0.6231\n",
            "Epoch 20/100\n",
            "3/3 [==============================] - 1s 463ms/step - loss: 0.5710 - val_loss: 0.6227\n",
            "Epoch 21/100\n",
            "3/3 [==============================] - 1s 471ms/step - loss: 0.5696 - val_loss: 0.6203\n",
            "Epoch 22/100\n",
            "3/3 [==============================] - 1s 465ms/step - loss: 0.5681 - val_loss: 0.6194\n",
            "Epoch 23/100\n",
            "3/3 [==============================] - 2s 547ms/step - loss: 0.5666 - val_loss: 0.6191\n",
            "Epoch 24/100\n",
            "3/3 [==============================] - 3s 873ms/step - loss: 0.5650 - val_loss: 0.6193\n",
            "Epoch 25/100\n",
            "3/3 [==============================] - 3s 855ms/step - loss: 0.5636 - val_loss: 0.6148\n",
            "Epoch 26/100\n",
            "3/3 [==============================] - 3s 887ms/step - loss: 0.5623 - val_loss: 0.6170\n",
            "Epoch 27/100\n",
            "3/3 [==============================] - 2s 595ms/step - loss: 0.5608 - val_loss: 0.6133\n",
            "Epoch 28/100\n",
            "3/3 [==============================] - 1s 476ms/step - loss: 0.5595 - val_loss: 0.6136\n",
            "Epoch 29/100\n",
            "3/3 [==============================] - 2s 732ms/step - loss: 0.5581 - val_loss: 0.6113\n",
            "Epoch 30/100\n",
            "3/3 [==============================] - 2s 721ms/step - loss: 0.5570 - val_loss: 0.6105\n",
            "Epoch 31/100\n",
            "3/3 [==============================] - 2s 748ms/step - loss: 0.5556 - val_loss: 0.6111\n",
            "Epoch 32/100\n",
            "3/3 [==============================] - 1s 461ms/step - loss: 0.5545 - val_loss: 0.6095\n",
            "Epoch 33/100\n",
            "3/3 [==============================] - 2s 739ms/step - loss: 0.5533 - val_loss: 0.6092\n",
            "Epoch 34/100\n",
            "3/3 [==============================] - 2s 719ms/step - loss: 0.5522 - val_loss: 0.6093\n",
            "Epoch 35/100\n",
            "3/3 [==============================] - 2s 701ms/step - loss: 0.5511 - val_loss: 0.6065\n",
            "Epoch 36/100\n",
            "3/3 [==============================] - 1s 473ms/step - loss: 0.5502 - val_loss: 0.6070\n",
            "Epoch 37/100\n",
            "3/3 [==============================] - 1s 464ms/step - loss: 0.5492 - val_loss: 0.6062\n",
            "Epoch 38/100\n",
            "3/3 [==============================] - 1s 463ms/step - loss: 0.5482 - val_loss: 0.6054\n",
            "Epoch 39/100\n",
            "3/3 [==============================] - 1s 470ms/step - loss: 0.5473 - val_loss: 0.6032\n",
            "Epoch 40/100\n",
            "3/3 [==============================] - 1s 463ms/step - loss: 0.5464 - val_loss: 0.6028\n",
            "Epoch 41/100\n",
            "3/3 [==============================] - 1s 466ms/step - loss: 0.5456 - val_loss: 0.6020\n",
            "Epoch 42/100\n",
            "3/3 [==============================] - 1s 481ms/step - loss: 0.5449 - val_loss: 0.6006\n",
            "Epoch 43/100\n",
            "3/3 [==============================] - 2s 771ms/step - loss: 0.5442 - val_loss: 0.6010\n",
            "Epoch 44/100\n",
            "3/3 [==============================] - 2s 741ms/step - loss: 0.5435 - val_loss: 0.5993\n",
            "Epoch 45/100\n",
            "3/3 [==============================] - 2s 474ms/step - loss: 0.5425 - val_loss: 0.5994\n",
            "Epoch 46/100\n",
            "3/3 [==============================] - 1s 472ms/step - loss: 0.5419 - val_loss: 0.5980\n",
            "Epoch 47/100\n",
            "3/3 [==============================] - 1s 470ms/step - loss: 0.5410 - val_loss: 0.5972\n",
            "Epoch 48/100\n",
            "3/3 [==============================] - 1s 465ms/step - loss: 0.5404 - val_loss: 0.5968\n",
            "Epoch 49/100\n",
            "3/3 [==============================] - 1s 466ms/step - loss: 0.5397 - val_loss: 0.5967\n",
            "Epoch 50/100\n",
            "3/3 [==============================] - 1s 477ms/step - loss: 0.5389 - val_loss: 0.5959\n",
            "Epoch 51/100\n",
            "3/3 [==============================] - 1s 467ms/step - loss: 0.5384 - val_loss: 0.5944\n",
            "Epoch 52/100\n",
            "3/3 [==============================] - 2s 632ms/step - loss: 0.5378 - val_loss: 0.5946\n",
            "Epoch 53/100\n",
            "3/3 [==============================] - 2s 718ms/step - loss: 0.5373 - val_loss: 0.5932\n",
            "Epoch 54/100\n",
            "3/3 [==============================] - 2s 791ms/step - loss: 0.5367 - val_loss: 0.5939\n",
            "Epoch 55/100\n",
            "3/3 [==============================] - 2s 466ms/step - loss: 0.5362 - val_loss: 0.5925\n",
            "Epoch 56/100\n",
            "3/3 [==============================] - 1s 475ms/step - loss: 0.5358 - val_loss: 0.5921\n",
            "Epoch 57/100\n",
            "3/3 [==============================] - 1s 462ms/step - loss: 0.5352 - val_loss: 0.5916\n",
            "Epoch 58/100\n",
            "3/3 [==============================] - 1s 469ms/step - loss: 0.5347 - val_loss: 0.5917\n",
            "Epoch 59/100\n",
            "3/3 [==============================] - 1s 476ms/step - loss: 0.5343 - val_loss: 0.5909\n",
            "Epoch 60/100\n",
            "3/3 [==============================] - 1s 457ms/step - loss: 0.5339 - val_loss: 0.5913\n",
            "Epoch 61/100\n",
            "3/3 [==============================] - 1s 477ms/step - loss: 0.5335 - val_loss: 0.5907\n",
            "Epoch 62/100\n",
            "3/3 [==============================] - 2s 706ms/step - loss: 0.5331 - val_loss: 0.5896\n",
            "Epoch 63/100\n",
            "3/3 [==============================] - 2s 746ms/step - loss: 0.5328 - val_loss: 0.5891\n",
            "Epoch 64/100\n",
            "3/3 [==============================] - 2s 750ms/step - loss: 0.5324 - val_loss: 0.5893\n",
            "Epoch 65/100\n",
            "3/3 [==============================] - 1s 469ms/step - loss: 0.5321 - val_loss: 0.5893\n",
            "Epoch 66/100\n",
            "3/3 [==============================] - 1s 463ms/step - loss: 0.5316 - val_loss: 0.5885\n",
            "Epoch 67/100\n",
            "3/3 [==============================] - 1s 455ms/step - loss: 0.5314 - val_loss: 0.5879\n",
            "Epoch 68/100\n",
            "3/3 [==============================] - 1s 466ms/step - loss: 0.5311 - val_loss: 0.5880\n",
            "Epoch 69/100\n",
            "3/3 [==============================] - 1s 472ms/step - loss: 0.5309 - val_loss: 0.5876\n",
            "Epoch 70/100\n",
            "3/3 [==============================] - 1s 461ms/step - loss: 0.5306 - val_loss: 0.5871\n",
            "Epoch 71/100\n",
            "3/3 [==============================] - 1s 472ms/step - loss: 0.5304 - val_loss: 0.5872\n",
            "Epoch 72/100\n",
            "3/3 [==============================] - 2s 733ms/step - loss: 0.5301 - val_loss: 0.5869\n",
            "Epoch 73/100\n",
            "3/3 [==============================] - 2s 729ms/step - loss: 0.5298 - val_loss: 0.5874\n",
            "Epoch 74/100\n",
            "3/3 [==============================] - 2s 727ms/step - loss: 0.5297 - val_loss: 0.5866\n",
            "Epoch 75/100\n",
            "3/3 [==============================] - 1s 465ms/step - loss: 0.5295 - val_loss: 0.5872\n",
            "Epoch 76/100\n",
            "3/3 [==============================] - 1s 463ms/step - loss: 0.5292 - val_loss: 0.5861\n",
            "Epoch 77/100\n",
            "3/3 [==============================] - 1s 460ms/step - loss: 0.5289 - val_loss: 0.5864\n",
            "Epoch 78/100\n",
            "3/3 [==============================] - 1s 463ms/step - loss: 0.5287 - val_loss: 0.5856\n",
            "Epoch 79/100\n",
            "3/3 [==============================] - 1s 467ms/step - loss: 0.5286 - val_loss: 0.5865\n",
            "Epoch 80/100\n",
            "3/3 [==============================] - 1s 468ms/step - loss: 0.5284 - val_loss: 0.5858\n",
            "Epoch 81/100\n",
            "3/3 [==============================] - 1s 470ms/step - loss: 0.5282 - val_loss: 0.5858\n",
            "Epoch 82/100\n",
            "3/3 [==============================] - 2s 746ms/step - loss: 0.5280 - val_loss: 0.5849\n",
            "Epoch 83/100\n",
            "3/3 [==============================] - 2s 796ms/step - loss: 0.5279 - val_loss: 0.5853\n",
            "Epoch 84/100\n",
            "3/3 [==============================] - 2s 571ms/step - loss: 0.5277 - val_loss: 0.5853\n",
            "Epoch 85/100\n",
            "3/3 [==============================] - 1s 463ms/step - loss: 0.5276 - val_loss: 0.5848\n",
            "Epoch 86/100\n",
            "3/3 [==============================] - 1s 467ms/step - loss: 0.5275 - val_loss: 0.5850\n",
            "Epoch 87/100\n",
            "3/3 [==============================] - 1s 469ms/step - loss: 0.5273 - val_loss: 0.5849\n",
            "Epoch 88/100\n",
            "3/3 [==============================] - 1s 467ms/step - loss: 0.5272 - val_loss: 0.5845\n",
            "Epoch 89/100\n",
            "3/3 [==============================] - 1s 478ms/step - loss: 0.5270 - val_loss: 0.5844\n",
            "Epoch 90/100\n",
            "3/3 [==============================] - 1s 473ms/step - loss: 0.5269 - val_loss: 0.5845\n",
            "Epoch 91/100\n",
            "3/3 [==============================] - 2s 535ms/step - loss: 0.5268 - val_loss: 0.5849\n",
            "Epoch 92/100\n",
            "3/3 [==============================] - 2s 750ms/step - loss: 0.5267 - val_loss: 0.5843\n",
            "Epoch 93/100\n",
            "3/3 [==============================] - 2s 742ms/step - loss: 0.5266 - val_loss: 0.5846\n",
            "Epoch 94/100\n",
            "3/3 [==============================] - 2s 469ms/step - loss: 0.5265 - val_loss: 0.5845\n",
            "Epoch 95/100\n",
            "3/3 [==============================] - 1s 468ms/step - loss: 0.5264 - val_loss: 0.5843\n",
            "Epoch 96/100\n",
            "3/3 [==============================] - 1s 458ms/step - loss: 0.5264 - val_loss: 0.5845\n",
            "Epoch 97/100\n",
            "3/3 [==============================] - 1s 465ms/step - loss: 0.5262 - val_loss: 0.5840\n",
            "Epoch 98/100\n",
            "3/3 [==============================] - 1s 476ms/step - loss: 0.5262 - val_loss: 0.5847\n",
            "Epoch 99/100\n",
            "3/3 [==============================] - 1s 462ms/step - loss: 0.5261 - val_loss: 0.5838\n",
            "Epoch 100/100\n",
            "3/3 [==============================] - 1s 464ms/step - loss: 0.5260 - val_loss: 0.5842\n"
          ]
        },
        {
          "output_type": "execute_result",
          "data": {
            "text/plain": [
              "<keras.src.callbacks.History at 0x79c8d89fffa0>"
            ]
          },
          "metadata": {},
          "execution_count": 18
        }
      ]
    },
    {
      "cell_type": "code",
      "source": [
        "#adding two new layers autoencoder 2\n",
        "en2=(Dense(512,activation='relu'))(auto_m.layers[-2].output)\n",
        "de2=(Dense(1024,activation='relu'))(en2)\n",
        "ou=(Dense(input_dim,activation='sigmoid'))(de2)\n",
        "#creating new model\n",
        "ae_model=keras.Model(inputs=auto_m.input, outputs=[ou])\n",
        "encoder_model=keras.Model(inputs=auto_m.input, outputs=[en2])\n",
        "encoder_model.summary()\n",
        "ae_model.summary()"
      ],
      "metadata": {
        "colab": {
          "base_uri": "https://localhost:8080/"
        },
        "id": "HQhsA2-_L-li",
        "outputId": "3bba1755-996c-425f-b68c-9d8c39a12d2a"
      },
      "execution_count": 19,
      "outputs": [
        {
          "output_type": "stream",
          "name": "stdout",
          "text": [
            "Model: \"model_3\"\n",
            "_________________________________________________________________\n",
            " Layer (type)                Output Shape              Param #   \n",
            "=================================================================\n",
            " input_1 (InputLayer)        [(None, 12582)]           0         \n",
            "                                                                 \n",
            " dense (Dense)               (None, 1024)              12884992  \n",
            "                                                                 \n",
            " dense_2 (Dense)             (None, 512)               524800    \n",
            "                                                                 \n",
            "=================================================================\n",
            "Total params: 13409792 (51.15 MB)\n",
            "Trainable params: 13409792 (51.15 MB)\n",
            "Non-trainable params: 0 (0.00 Byte)\n",
            "_________________________________________________________________\n",
            "Model: \"model_2\"\n",
            "_________________________________________________________________\n",
            " Layer (type)                Output Shape              Param #   \n",
            "=================================================================\n",
            " input_1 (InputLayer)        [(None, 12582)]           0         \n",
            "                                                                 \n",
            " dense (Dense)               (None, 1024)              12884992  \n",
            "                                                                 \n",
            " dense_2 (Dense)             (None, 512)               524800    \n",
            "                                                                 \n",
            " dense_3 (Dense)             (None, 1024)              525312    \n",
            "                                                                 \n",
            " dense_4 (Dense)             (None, 12582)             12896550  \n",
            "                                                                 \n",
            "=================================================================\n",
            "Total params: 26831654 (102.35 MB)\n",
            "Trainable params: 26831654 (102.35 MB)\n",
            "Non-trainable params: 0 (0.00 Byte)\n",
            "_________________________________________________________________\n"
          ]
        }
      ]
    },
    {
      "cell_type": "code",
      "source": [
        "#train new model\n",
        "ae_model.compile(optimizer='adam', loss='binary_crossentropy')\n",
        "ae_model.fit(X_scl_train, X_scl_train,\n",
        "                epochs=100,\n",
        "                batch_size=30,\n",
        "                shuffle=True,\n",
        "                validation_data=(X_scl_test, X_scl_test))"
      ],
      "metadata": {
        "colab": {
          "base_uri": "https://localhost:8080/"
        },
        "id": "H-LIQcR9NJd1",
        "outputId": "240467c9-9fd3-46cd-b8f2-a90a0453c5fa"
      },
      "execution_count": 20,
      "outputs": [
        {
          "output_type": "stream",
          "name": "stdout",
          "text": [
            "Epoch 1/100\n",
            "3/3 [==============================] - 4s 845ms/step - loss: 0.6832 - val_loss: 0.6745\n",
            "Epoch 2/100\n",
            "3/3 [==============================] - 2s 654ms/step - loss: 0.6414 - val_loss: 0.6590\n",
            "Epoch 3/100\n",
            "3/3 [==============================] - 1s 484ms/step - loss: 0.6208 - val_loss: 0.6548\n",
            "Epoch 4/100\n",
            "3/3 [==============================] - 1s 470ms/step - loss: 0.6097 - val_loss: 0.6507\n",
            "Epoch 5/100\n",
            "3/3 [==============================] - 1s 476ms/step - loss: 0.5973 - val_loss: 0.6391\n",
            "Epoch 6/100\n",
            "3/3 [==============================] - 1s 477ms/step - loss: 0.5897 - val_loss: 0.6374\n",
            "Epoch 7/100\n",
            "3/3 [==============================] - 2s 892ms/step - loss: 0.5834 - val_loss: 0.6327\n",
            "Epoch 8/100\n",
            "3/3 [==============================] - 1s 476ms/step - loss: 0.5770 - val_loss: 0.6289\n",
            "Epoch 9/100\n",
            "3/3 [==============================] - 2s 753ms/step - loss: 0.5723 - val_loss: 0.6253\n",
            "Epoch 10/100\n",
            "3/3 [==============================] - 2s 734ms/step - loss: 0.5676 - val_loss: 0.6218\n",
            "Epoch 11/100\n",
            "3/3 [==============================] - 2s 690ms/step - loss: 0.5629 - val_loss: 0.6179\n",
            "Epoch 12/100\n",
            "3/3 [==============================] - 1s 469ms/step - loss: 0.5589 - val_loss: 0.6150\n",
            "Epoch 13/100\n",
            "3/3 [==============================] - 1s 471ms/step - loss: 0.5548 - val_loss: 0.6119\n",
            "Epoch 14/100\n",
            "3/3 [==============================] - 1s 475ms/step - loss: 0.5516 - val_loss: 0.6091\n",
            "Epoch 15/100\n",
            "3/3 [==============================] - 1s 477ms/step - loss: 0.5485 - val_loss: 0.6060\n",
            "Epoch 16/100\n",
            "3/3 [==============================] - 1s 476ms/step - loss: 0.5457 - val_loss: 0.6038\n",
            "Epoch 17/100\n",
            "3/3 [==============================] - 1s 477ms/step - loss: 0.5432 - val_loss: 0.6009\n",
            "Epoch 18/100\n",
            "3/3 [==============================] - 1s 515ms/step - loss: 0.5409 - val_loss: 0.5997\n",
            "Epoch 19/100\n",
            "3/3 [==============================] - 2s 723ms/step - loss: 0.5390 - val_loss: 0.5973\n",
            "Epoch 20/100\n",
            "3/3 [==============================] - 2s 776ms/step - loss: 0.5373 - val_loss: 0.5958\n",
            "Epoch 21/100\n",
            "3/3 [==============================] - 2s 522ms/step - loss: 0.5358 - val_loss: 0.5943\n",
            "Epoch 22/100\n",
            "3/3 [==============================] - 1s 469ms/step - loss: 0.5346 - val_loss: 0.5925\n",
            "Epoch 23/100\n",
            "3/3 [==============================] - 1s 479ms/step - loss: 0.5333 - val_loss: 0.5911\n",
            "Epoch 24/100\n",
            "3/3 [==============================] - 1s 478ms/step - loss: 0.5323 - val_loss: 0.5905\n",
            "Epoch 25/100\n",
            "3/3 [==============================] - 1s 480ms/step - loss: 0.5314 - val_loss: 0.5893\n",
            "Epoch 26/100\n",
            "3/3 [==============================] - 1s 496ms/step - loss: 0.5307 - val_loss: 0.5881\n",
            "Epoch 27/100\n",
            "3/3 [==============================] - 1s 465ms/step - loss: 0.5300 - val_loss: 0.5882\n",
            "Epoch 28/100\n",
            "3/3 [==============================] - 2s 626ms/step - loss: 0.5294 - val_loss: 0.5869\n",
            "Epoch 29/100\n",
            "3/3 [==============================] - 2s 747ms/step - loss: 0.5287 - val_loss: 0.5861\n",
            "Epoch 30/100\n",
            "3/3 [==============================] - 2s 859ms/step - loss: 0.5283 - val_loss: 0.5856\n",
            "Epoch 31/100\n",
            "3/3 [==============================] - 1s 473ms/step - loss: 0.5277 - val_loss: 0.5851\n",
            "Epoch 32/100\n",
            "3/3 [==============================] - 1s 468ms/step - loss: 0.5274 - val_loss: 0.5851\n",
            "Epoch 33/100\n",
            "3/3 [==============================] - 1s 470ms/step - loss: 0.5270 - val_loss: 0.5847\n",
            "Epoch 34/100\n",
            "3/3 [==============================] - 1s 473ms/step - loss: 0.5267 - val_loss: 0.5846\n",
            "Epoch 35/100\n",
            "3/3 [==============================] - 1s 482ms/step - loss: 0.5264 - val_loss: 0.5845\n",
            "Epoch 36/100\n",
            "3/3 [==============================] - 1s 472ms/step - loss: 0.5262 - val_loss: 0.5846\n",
            "Epoch 37/100\n",
            "3/3 [==============================] - 1s 465ms/step - loss: 0.5260 - val_loss: 0.5837\n",
            "Epoch 38/100\n",
            "3/3 [==============================] - 2s 747ms/step - loss: 0.5258 - val_loss: 0.5845\n",
            "Epoch 39/100\n",
            "3/3 [==============================] - 2s 732ms/step - loss: 0.5256 - val_loss: 0.5841\n",
            "Epoch 40/100\n",
            "3/3 [==============================] - 2s 609ms/step - loss: 0.5255 - val_loss: 0.5844\n",
            "Epoch 41/100\n",
            "3/3 [==============================] - 1s 466ms/step - loss: 0.5253 - val_loss: 0.5837\n",
            "Epoch 42/100\n",
            "3/3 [==============================] - 1s 473ms/step - loss: 0.5252 - val_loss: 0.5840\n",
            "Epoch 43/100\n",
            "3/3 [==============================] - 1s 480ms/step - loss: 0.5251 - val_loss: 0.5831\n",
            "Epoch 44/100\n",
            "3/3 [==============================] - 1s 474ms/step - loss: 0.5250 - val_loss: 0.5843\n",
            "Epoch 45/100\n",
            "3/3 [==============================] - 1s 479ms/step - loss: 0.5249 - val_loss: 0.5841\n",
            "Epoch 46/100\n",
            "3/3 [==============================] - 1s 477ms/step - loss: 0.5248 - val_loss: 0.5843\n",
            "Epoch 47/100\n",
            "3/3 [==============================] - 2s 581ms/step - loss: 0.5248 - val_loss: 0.5837\n",
            "Epoch 48/100\n",
            "3/3 [==============================] - 2s 741ms/step - loss: 0.5247 - val_loss: 0.5843\n",
            "Epoch 49/100\n",
            "3/3 [==============================] - 2s 799ms/step - loss: 0.5247 - val_loss: 0.5840\n",
            "Epoch 50/100\n",
            "3/3 [==============================] - 2s 474ms/step - loss: 0.5246 - val_loss: 0.5837\n",
            "Epoch 51/100\n",
            "3/3 [==============================] - 1s 474ms/step - loss: 0.5246 - val_loss: 0.5843\n",
            "Epoch 52/100\n",
            "3/3 [==============================] - 1s 473ms/step - loss: 0.5245 - val_loss: 0.5842\n",
            "Epoch 53/100\n",
            "3/3 [==============================] - 1s 475ms/step - loss: 0.5245 - val_loss: 0.5841\n",
            "Epoch 54/100\n",
            "3/3 [==============================] - 1s 472ms/step - loss: 0.5244 - val_loss: 0.5846\n",
            "Epoch 55/100\n",
            "3/3 [==============================] - 1s 471ms/step - loss: 0.5244 - val_loss: 0.5848\n",
            "Epoch 56/100\n",
            "3/3 [==============================] - 1s 491ms/step - loss: 0.5245 - val_loss: 0.5850\n",
            "Epoch 57/100\n",
            "3/3 [==============================] - 2s 851ms/step - loss: 0.5244 - val_loss: 0.5832\n",
            "Epoch 58/100\n",
            "3/3 [==============================] - 3s 865ms/step - loss: 0.5245 - val_loss: 0.5848\n",
            "Epoch 59/100\n",
            "3/3 [==============================] - 3s 882ms/step - loss: 0.5244 - val_loss: 0.5847\n",
            "Epoch 60/100\n",
            "3/3 [==============================] - 3s 890ms/step - loss: 0.5245 - val_loss: 0.5853\n",
            "Epoch 61/100\n",
            "3/3 [==============================] - 1s 472ms/step - loss: 0.5245 - val_loss: 0.5838\n",
            "Epoch 62/100\n",
            "3/3 [==============================] - 1s 479ms/step - loss: 0.5245 - val_loss: 0.5852\n",
            "Epoch 63/100\n",
            "3/3 [==============================] - 1s 480ms/step - loss: 0.5245 - val_loss: 0.5853\n",
            "Epoch 64/100\n",
            "3/3 [==============================] - 1s 477ms/step - loss: 0.5246 - val_loss: 0.5853\n",
            "Epoch 65/100\n",
            "3/3 [==============================] - 1s 473ms/step - loss: 0.5246 - val_loss: 0.5842\n",
            "Epoch 66/100\n",
            "3/3 [==============================] - 1s 482ms/step - loss: 0.5246 - val_loss: 0.5851\n",
            "Epoch 67/100\n",
            "3/3 [==============================] - 1s 479ms/step - loss: 0.5246 - val_loss: 0.5860\n",
            "Epoch 68/100\n",
            "3/3 [==============================] - 2s 778ms/step - loss: 0.5247 - val_loss: 0.5847\n",
            "Epoch 69/100\n",
            "3/3 [==============================] - 2s 772ms/step - loss: 0.5248 - val_loss: 0.5847\n",
            "Epoch 70/100\n",
            "3/3 [==============================] - 2s 552ms/step - loss: 0.5249 - val_loss: 0.5856\n",
            "Epoch 71/100\n",
            "3/3 [==============================] - 1s 475ms/step - loss: 0.5248 - val_loss: 0.5848\n",
            "Epoch 72/100\n",
            "3/3 [==============================] - 1s 482ms/step - loss: 0.5249 - val_loss: 0.5845\n",
            "Epoch 73/100\n",
            "3/3 [==============================] - 1s 478ms/step - loss: 0.5249 - val_loss: 0.5862\n",
            "Epoch 74/100\n",
            "3/3 [==============================] - 1s 475ms/step - loss: 0.5248 - val_loss: 0.5839\n",
            "Epoch 75/100\n",
            "3/3 [==============================] - 1s 482ms/step - loss: 0.5247 - val_loss: 0.5850\n",
            "Epoch 76/100\n",
            "3/3 [==============================] - 1s 478ms/step - loss: 0.5247 - val_loss: 0.5848\n",
            "Epoch 77/100\n",
            "3/3 [==============================] - 2s 617ms/step - loss: 0.5248 - val_loss: 0.5846\n",
            "Epoch 78/100\n",
            "3/3 [==============================] - 2s 785ms/step - loss: 0.5248 - val_loss: 0.5854\n",
            "Epoch 79/100\n",
            "3/3 [==============================] - 2s 693ms/step - loss: 0.5249 - val_loss: 0.5858\n",
            "Epoch 80/100\n",
            "3/3 [==============================] - 1s 503ms/step - loss: 0.5249 - val_loss: 0.5849\n",
            "Epoch 81/100\n",
            "3/3 [==============================] - 1s 487ms/step - loss: 0.5250 - val_loss: 0.5855\n",
            "Epoch 82/100\n",
            "3/3 [==============================] - 1s 474ms/step - loss: 0.5248 - val_loss: 0.5850\n",
            "Epoch 83/100\n",
            "3/3 [==============================] - 1s 473ms/step - loss: 0.5248 - val_loss: 0.5849\n",
            "Epoch 84/100\n",
            "3/3 [==============================] - 1s 474ms/step - loss: 0.5247 - val_loss: 0.5856\n",
            "Epoch 85/100\n",
            "3/3 [==============================] - 1s 482ms/step - loss: 0.5248 - val_loss: 0.5848\n",
            "Epoch 86/100\n",
            "3/3 [==============================] - 2s 549ms/step - loss: 0.5247 - val_loss: 0.5844\n",
            "Epoch 87/100\n",
            "3/3 [==============================] - 2s 769ms/step - loss: 0.5247 - val_loss: 0.5852\n",
            "Epoch 88/100\n",
            "3/3 [==============================] - 2s 790ms/step - loss: 0.5248 - val_loss: 0.5846\n",
            "Epoch 89/100\n",
            "3/3 [==============================] - 2s 480ms/step - loss: 0.5247 - val_loss: 0.5848\n",
            "Epoch 90/100\n",
            "3/3 [==============================] - 1s 475ms/step - loss: 0.5246 - val_loss: 0.5848\n",
            "Epoch 91/100\n",
            "3/3 [==============================] - 1s 472ms/step - loss: 0.5247 - val_loss: 0.5849\n",
            "Epoch 92/100\n",
            "3/3 [==============================] - 1s 470ms/step - loss: 0.5247 - val_loss: 0.5855\n",
            "Epoch 93/100\n",
            "3/3 [==============================] - 1s 468ms/step - loss: 0.5248 - val_loss: 0.5843\n",
            "Epoch 94/100\n",
            "3/3 [==============================] - 1s 482ms/step - loss: 0.5248 - val_loss: 0.5855\n",
            "Epoch 95/100\n",
            "3/3 [==============================] - 1s 475ms/step - loss: 0.5247 - val_loss: 0.5846\n",
            "Epoch 96/100\n",
            "3/3 [==============================] - 2s 665ms/step - loss: 0.5249 - val_loss: 0.5861\n",
            "Epoch 97/100\n",
            "3/3 [==============================] - 2s 761ms/step - loss: 0.5248 - val_loss: 0.5842\n",
            "Epoch 98/100\n",
            "3/3 [==============================] - 2s 856ms/step - loss: 0.5247 - val_loss: 0.5851\n",
            "Epoch 99/100\n",
            "3/3 [==============================] - 1s 486ms/step - loss: 0.5247 - val_loss: 0.5847\n",
            "Epoch 100/100\n",
            "3/3 [==============================] - 1s 475ms/step - loss: 0.5246 - val_loss: 0.5848\n"
          ]
        },
        {
          "output_type": "execute_result",
          "data": {
            "text/plain": [
              "<keras.src.callbacks.History at 0x79c8d0138370>"
            ]
          },
          "metadata": {},
          "execution_count": 20
        }
      ]
    },
    {
      "cell_type": "code",
      "source": [
        "#adding two new layers\n",
        "en3=(Dense(100,activation='relu'))(ae_model.layers[-3].output)\n",
        "de3=(Dense(512,activation='relu'))(en3)\n",
        "de3=(Dense(1024,activation='relu'))(de3)\n",
        "ou3=(Dense(input_dim,activation='sigmoid'))(de3)"
      ],
      "metadata": {
        "id": "59ylJG7rNBdW"
      },
      "execution_count": 21,
      "outputs": []
    },
    {
      "cell_type": "code",
      "source": [
        "#creating final stacked model\n",
        "ae_model_new=keras.Model(inputs=auto_m.input, outputs=[ou3])\n",
        "SAE=keras.Model(inputs=auto_m.input, outputs=[ae_model_new.layers[-4].output])\n",
        "ae_model_new.summary()"
      ],
      "metadata": {
        "colab": {
          "base_uri": "https://localhost:8080/"
        },
        "id": "LPlll-C4NBg5",
        "outputId": "1b612805-3804-4381-a724-2ad6440ee16c"
      },
      "execution_count": 22,
      "outputs": [
        {
          "output_type": "stream",
          "name": "stdout",
          "text": [
            "Model: \"model_4\"\n",
            "_________________________________________________________________\n",
            " Layer (type)                Output Shape              Param #   \n",
            "=================================================================\n",
            " input_1 (InputLayer)        [(None, 12582)]           0         \n",
            "                                                                 \n",
            " dense (Dense)               (None, 1024)              12884992  \n",
            "                                                                 \n",
            " dense_2 (Dense)             (None, 512)               524800    \n",
            "                                                                 \n",
            " dense_5 (Dense)             (None, 100)               51300     \n",
            "                                                                 \n",
            " dense_6 (Dense)             (None, 512)               51712     \n",
            "                                                                 \n",
            " dense_7 (Dense)             (None, 1024)              525312    \n",
            "                                                                 \n",
            " dense_8 (Dense)             (None, 12582)             12896550  \n",
            "                                                                 \n",
            "=================================================================\n",
            "Total params: 26934666 (102.75 MB)\n",
            "Trainable params: 26934666 (102.75 MB)\n",
            "Non-trainable params: 0 (0.00 Byte)\n",
            "_________________________________________________________________\n"
          ]
        }
      ]
    },
    {
      "cell_type": "code",
      "source": [
        "#train final stacked model\n",
        "ae_model_new.compile(optimizer='adam', loss='binary_crossentropy')\n",
        "ae_model_new.fit(X_scl_train, X_scl_train,\n",
        "                epochs=100,\n",
        "                batch_size=30,\n",
        "                shuffle=True,\n",
        "                validation_data=(X_scl_test, X_scl_test))"
      ],
      "metadata": {
        "colab": {
          "base_uri": "https://localhost:8080/"
        },
        "id": "VCbgQ6EJNsTw",
        "outputId": "557581fd-a1e0-498a-8858-503500bd4a5d"
      },
      "execution_count": 23,
      "outputs": [
        {
          "output_type": "stream",
          "name": "stdout",
          "text": [
            "Epoch 1/100\n",
            "3/3 [==============================] - 3s 558ms/step - loss: 0.6863 - val_loss: 0.6706\n",
            "Epoch 2/100\n",
            "3/3 [==============================] - 1s 482ms/step - loss: 0.6434 - val_loss: 0.6644\n",
            "Epoch 3/100\n",
            "3/3 [==============================] - 1s 467ms/step - loss: 0.6221 - val_loss: 0.6718\n",
            "Epoch 4/100\n",
            "3/3 [==============================] - 2s 602ms/step - loss: 0.6164 - val_loss: 0.6517\n",
            "Epoch 5/100\n",
            "3/3 [==============================] - 2s 802ms/step - loss: 0.6055 - val_loss: 0.6520\n",
            "Epoch 6/100\n",
            "3/3 [==============================] - 2s 849ms/step - loss: 0.5985 - val_loss: 0.6371\n",
            "Epoch 7/100\n",
            "3/3 [==============================] - 1s 475ms/step - loss: 0.5916 - val_loss: 0.6412\n",
            "Epoch 8/100\n",
            "3/3 [==============================] - 1s 473ms/step - loss: 0.5855 - val_loss: 0.6309\n",
            "Epoch 9/100\n",
            "3/3 [==============================] - 1s 470ms/step - loss: 0.5805 - val_loss: 0.6312\n",
            "Epoch 10/100\n",
            "3/3 [==============================] - 1s 480ms/step - loss: 0.5770 - val_loss: 0.6286\n",
            "Epoch 11/100\n",
            "3/3 [==============================] - 1s 475ms/step - loss: 0.5735 - val_loss: 0.6249\n",
            "Epoch 12/100\n",
            "3/3 [==============================] - 1s 479ms/step - loss: 0.5701 - val_loss: 0.6239\n",
            "Epoch 13/100\n",
            "3/3 [==============================] - 1s 485ms/step - loss: 0.5668 - val_loss: 0.6221\n",
            "Epoch 14/100\n",
            "3/3 [==============================] - 2s 743ms/step - loss: 0.5640 - val_loss: 0.6186\n",
            "Epoch 15/100\n",
            "3/3 [==============================] - 2s 772ms/step - loss: 0.5609 - val_loss: 0.6185\n",
            "Epoch 16/100\n",
            "3/3 [==============================] - 2s 533ms/step - loss: 0.5578 - val_loss: 0.6133\n",
            "Epoch 17/100\n",
            "3/3 [==============================] - 1s 468ms/step - loss: 0.5547 - val_loss: 0.6112\n",
            "Epoch 18/100\n",
            "3/3 [==============================] - 1s 465ms/step - loss: 0.5521 - val_loss: 0.6097\n",
            "Epoch 19/100\n",
            "3/3 [==============================] - 1s 474ms/step - loss: 0.5492 - val_loss: 0.6071\n",
            "Epoch 20/100\n",
            "3/3 [==============================] - 1s 475ms/step - loss: 0.5465 - val_loss: 0.6065\n",
            "Epoch 21/100\n",
            "3/3 [==============================] - 1s 469ms/step - loss: 0.5445 - val_loss: 0.6033\n",
            "Epoch 22/100\n",
            "3/3 [==============================] - 1s 474ms/step - loss: 0.5423 - val_loss: 0.6024\n",
            "Epoch 23/100\n",
            "3/3 [==============================] - 2s 634ms/step - loss: 0.5404 - val_loss: 0.6004\n",
            "Epoch 24/100\n",
            "3/3 [==============================] - 2s 774ms/step - loss: 0.5387 - val_loss: 0.6001\n",
            "Epoch 25/100\n",
            "3/3 [==============================] - 2s 840ms/step - loss: 0.5373 - val_loss: 0.5977\n",
            "Epoch 26/100\n",
            "3/3 [==============================] - 1s 469ms/step - loss: 0.5359 - val_loss: 0.5955\n",
            "Epoch 27/100\n",
            "3/3 [==============================] - 1s 474ms/step - loss: 0.5348 - val_loss: 0.5972\n",
            "Epoch 28/100\n",
            "3/3 [==============================] - 1s 472ms/step - loss: 0.5338 - val_loss: 0.5943\n",
            "Epoch 29/100\n",
            "3/3 [==============================] - 1s 480ms/step - loss: 0.5328 - val_loss: 0.5944\n",
            "Epoch 30/100\n",
            "3/3 [==============================] - 1s 474ms/step - loss: 0.5318 - val_loss: 0.5920\n",
            "Epoch 31/100\n",
            "3/3 [==============================] - 1s 481ms/step - loss: 0.5311 - val_loss: 0.5920\n",
            "Epoch 32/100\n",
            "3/3 [==============================] - 1s 480ms/step - loss: 0.5304 - val_loss: 0.5933\n",
            "Epoch 33/100\n",
            "3/3 [==============================] - 2s 766ms/step - loss: 0.5298 - val_loss: 0.5899\n",
            "Epoch 34/100\n",
            "3/3 [==============================] - 2s 779ms/step - loss: 0.5293 - val_loss: 0.5918\n",
            "Epoch 35/100\n",
            "3/3 [==============================] - 2s 472ms/step - loss: 0.5290 - val_loss: 0.5906\n",
            "Epoch 36/100\n",
            "3/3 [==============================] - 1s 479ms/step - loss: 0.5285 - val_loss: 0.5908\n",
            "Epoch 37/100\n",
            "3/3 [==============================] - 1s 475ms/step - loss: 0.5282 - val_loss: 0.5894\n",
            "Epoch 38/100\n",
            "3/3 [==============================] - 1s 475ms/step - loss: 0.5279 - val_loss: 0.5886\n",
            "Epoch 39/100\n",
            "3/3 [==============================] - 1s 469ms/step - loss: 0.5274 - val_loss: 0.5902\n",
            "Epoch 40/100\n",
            "3/3 [==============================] - 1s 468ms/step - loss: 0.5272 - val_loss: 0.5880\n",
            "Epoch 41/100\n",
            "3/3 [==============================] - 1s 478ms/step - loss: 0.5269 - val_loss: 0.5894\n",
            "Epoch 42/100\n",
            "3/3 [==============================] - 2s 663ms/step - loss: 0.5266 - val_loss: 0.5892\n",
            "Epoch 43/100\n",
            "3/3 [==============================] - 2s 770ms/step - loss: 0.5263 - val_loss: 0.5884\n",
            "Epoch 44/100\n",
            "3/3 [==============================] - 2s 701ms/step - loss: 0.5263 - val_loss: 0.5888\n",
            "Epoch 45/100\n",
            "3/3 [==============================] - 1s 479ms/step - loss: 0.5261 - val_loss: 0.5899\n",
            "Epoch 46/100\n",
            "3/3 [==============================] - 1s 478ms/step - loss: 0.5261 - val_loss: 0.5887\n",
            "Epoch 47/100\n",
            "3/3 [==============================] - 1s 473ms/step - loss: 0.5258 - val_loss: 0.5873\n",
            "Epoch 48/100\n",
            "3/3 [==============================] - 1s 479ms/step - loss: 0.5257 - val_loss: 0.5884\n",
            "Epoch 49/100\n",
            "3/3 [==============================] - 1s 475ms/step - loss: 0.5255 - val_loss: 0.5880\n",
            "Epoch 50/100\n",
            "3/3 [==============================] - 1s 478ms/step - loss: 0.5254 - val_loss: 0.5890\n",
            "Epoch 51/100\n",
            "3/3 [==============================] - 2s 543ms/step - loss: 0.5254 - val_loss: 0.5885\n",
            "Epoch 52/100\n",
            "3/3 [==============================] - 2s 822ms/step - loss: 0.5253 - val_loss: 0.5882\n",
            "Epoch 53/100\n",
            "3/3 [==============================] - 2s 778ms/step - loss: 0.5252 - val_loss: 0.5888\n",
            "Epoch 54/100\n",
            "3/3 [==============================] - 2s 477ms/step - loss: 0.5253 - val_loss: 0.5890\n",
            "Epoch 55/100\n",
            "3/3 [==============================] - 1s 476ms/step - loss: 0.5252 - val_loss: 0.5891\n",
            "Epoch 56/100\n",
            "3/3 [==============================] - 1s 483ms/step - loss: 0.5253 - val_loss: 0.5877\n",
            "Epoch 57/100\n",
            "3/3 [==============================] - 1s 483ms/step - loss: 0.5252 - val_loss: 0.5898\n",
            "Epoch 58/100\n",
            "3/3 [==============================] - 1s 477ms/step - loss: 0.5251 - val_loss: 0.5874\n",
            "Epoch 59/100\n",
            "3/3 [==============================] - 1s 476ms/step - loss: 0.5251 - val_loss: 0.5896\n",
            "Epoch 60/100\n",
            "3/3 [==============================] - 1s 479ms/step - loss: 0.5250 - val_loss: 0.5886\n",
            "Epoch 61/100\n",
            "3/3 [==============================] - 2s 778ms/step - loss: 0.5249 - val_loss: 0.5889\n",
            "Epoch 62/100\n",
            "3/3 [==============================] - 3s 838ms/step - loss: 0.5250 - val_loss: 0.5894\n",
            "Epoch 63/100\n",
            "3/3 [==============================] - 3s 912ms/step - loss: 0.5249 - val_loss: 0.5889\n",
            "Epoch 64/100\n",
            "3/3 [==============================] - 3s 867ms/step - loss: 0.5249 - val_loss: 0.5887\n",
            "Epoch 65/100\n",
            "3/3 [==============================] - 2s 480ms/step - loss: 0.5249 - val_loss: 0.5896\n",
            "Epoch 66/100\n",
            "3/3 [==============================] - 1s 481ms/step - loss: 0.5249 - val_loss: 0.5890\n",
            "Epoch 67/100\n",
            "3/3 [==============================] - 1s 486ms/step - loss: 0.5250 - val_loss: 0.5902\n",
            "Epoch 68/100\n",
            "3/3 [==============================] - 1s 487ms/step - loss: 0.5249 - val_loss: 0.5889\n",
            "Epoch 69/100\n",
            "3/3 [==============================] - 1s 492ms/step - loss: 0.5249 - val_loss: 0.5895\n",
            "Epoch 70/100\n",
            "3/3 [==============================] - 1s 480ms/step - loss: 0.5248 - val_loss: 0.5893\n",
            "Epoch 71/100\n",
            "3/3 [==============================] - 2s 751ms/step - loss: 0.5248 - val_loss: 0.5893\n",
            "Epoch 72/100\n",
            "3/3 [==============================] - 2s 748ms/step - loss: 0.5248 - val_loss: 0.5899\n",
            "Epoch 73/100\n",
            "3/3 [==============================] - 2s 581ms/step - loss: 0.5248 - val_loss: 0.5888\n",
            "Epoch 74/100\n",
            "3/3 [==============================] - 1s 478ms/step - loss: 0.5248 - val_loss: 0.5892\n",
            "Epoch 75/100\n",
            "3/3 [==============================] - 1s 479ms/step - loss: 0.5248 - val_loss: 0.5890\n",
            "Epoch 76/100\n",
            "3/3 [==============================] - 1s 475ms/step - loss: 0.5246 - val_loss: 0.5902\n",
            "Epoch 77/100\n",
            "3/3 [==============================] - 1s 482ms/step - loss: 0.5246 - val_loss: 0.5880\n",
            "Epoch 78/100\n",
            "3/3 [==============================] - 1s 487ms/step - loss: 0.5247 - val_loss: 0.5918\n",
            "Epoch 79/100\n",
            "3/3 [==============================] - 1s 470ms/step - loss: 0.5247 - val_loss: 0.5878\n",
            "Epoch 80/100\n",
            "3/3 [==============================] - 2s 596ms/step - loss: 0.5248 - val_loss: 0.5921\n",
            "Epoch 81/100\n",
            "3/3 [==============================] - 2s 771ms/step - loss: 0.5248 - val_loss: 0.5898\n",
            "Epoch 82/100\n",
            "3/3 [==============================] - 2s 857ms/step - loss: 0.5248 - val_loss: 0.5913\n",
            "Epoch 83/100\n",
            "3/3 [==============================] - 1s 487ms/step - loss: 0.5247 - val_loss: 0.5886\n",
            "Epoch 84/100\n",
            "3/3 [==============================] - 1s 482ms/step - loss: 0.5248 - val_loss: 0.5907\n",
            "Epoch 85/100\n",
            "3/3 [==============================] - 1s 476ms/step - loss: 0.5247 - val_loss: 0.5890\n",
            "Epoch 86/100\n",
            "3/3 [==============================] - 1s 482ms/step - loss: 0.5246 - val_loss: 0.5905\n",
            "Epoch 87/100\n",
            "3/3 [==============================] - 1s 482ms/step - loss: 0.5247 - val_loss: 0.5895\n",
            "Epoch 88/100\n",
            "3/3 [==============================] - 1s 475ms/step - loss: 0.5246 - val_loss: 0.5895\n",
            "Epoch 89/100\n",
            "3/3 [==============================] - 1s 474ms/step - loss: 0.5246 - val_loss: 0.5903\n",
            "Epoch 90/100\n",
            "3/3 [==============================] - 2s 763ms/step - loss: 0.5246 - val_loss: 0.5887\n",
            "Epoch 91/100\n",
            "3/3 [==============================] - 2s 736ms/step - loss: 0.5245 - val_loss: 0.5905\n",
            "Epoch 92/100\n",
            "3/3 [==============================] - 2s 574ms/step - loss: 0.5245 - val_loss: 0.5889\n",
            "Epoch 93/100\n",
            "3/3 [==============================] - 1s 467ms/step - loss: 0.5244 - val_loss: 0.5899\n",
            "Epoch 94/100\n",
            "3/3 [==============================] - 1s 481ms/step - loss: 0.5243 - val_loss: 0.5890\n",
            "Epoch 95/100\n",
            "3/3 [==============================] - 1s 476ms/step - loss: 0.5243 - val_loss: 0.5899\n",
            "Epoch 96/100\n",
            "3/3 [==============================] - 1s 479ms/step - loss: 0.5242 - val_loss: 0.5900\n",
            "Epoch 97/100\n",
            "3/3 [==============================] - 1s 481ms/step - loss: 0.5242 - val_loss: 0.5896\n",
            "Epoch 98/100\n",
            "3/3 [==============================] - 1s 477ms/step - loss: 0.5243 - val_loss: 0.5897\n",
            "Epoch 99/100\n",
            "3/3 [==============================] - 2s 612ms/step - loss: 0.5243 - val_loss: 0.5904\n",
            "Epoch 100/100\n",
            "3/3 [==============================] - 2s 826ms/step - loss: 0.5243 - val_loss: 0.5896\n"
          ]
        },
        {
          "output_type": "execute_result",
          "data": {
            "text/plain": [
              "<keras.src.callbacks.History at 0x79c8d1e1c280>"
            ]
          },
          "metadata": {},
          "execution_count": 23
        }
      ]
    },
    {
      "cell_type": "code",
      "source": [
        "X_new = SAE.predict(X_scl)\n",
        "print(X_new.shape)"
      ],
      "metadata": {
        "colab": {
          "base_uri": "https://localhost:8080/"
        },
        "id": "6kJrZvuSTTdb",
        "outputId": "9f647583-95ce-4fdb-d5d1-17d4f21c040d"
      },
      "execution_count": 24,
      "outputs": [
        {
          "output_type": "stream",
          "name": "stdout",
          "text": [
            "4/4 [==============================] - 0s 37ms/step\n",
            "(102, 100)\n"
          ]
        }
      ]
    },
    {
      "cell_type": "code",
      "source": [],
      "metadata": {
        "id": "u7Z9JeioU3kt"
      },
      "execution_count": null,
      "outputs": []
    },
    {
      "cell_type": "code",
      "source": [
        "cv = KFold(n_splits=2, random_state=1, shuffle=True)\n",
        "rf_model = RandomForestClassifier(n_estimators=500, random_state=0)\n",
        "LR = LogisticRegression(random_state=0)\n",
        "lda_clf = LinearDiscriminantAnalysis()\n",
        "qda_clf = QuadraticDiscriminantAnalysis()\n",
        "gpc = GaussianProcessClassifier(kernel=kernel,random_state=0)\n",
        "svm_model = svm.SVC(random_state=1,kernel='rbf', probability=True)\n",
        "gnb = GaussianNB()\n",
        "dt_model = DecisionTreeClassifier(random_state=0)\n",
        "adb = AdaBoostClassifier(n_estimators=100, random_state=0)\n",
        "modls=[rf_model,LR,lda_clf,qda_clf,gpc,svm_model,gnb,dt_model,adb]\n",
        "names=[\"RF\", \"LR\", \"LDA\", \"QDA\", \"GPC\", \"SVM\", \"NB\", \"DT\", \"AB\"]"
      ],
      "metadata": {
        "id": "HqZBIjUSU3nQ"
      },
      "execution_count": 33,
      "outputs": []
    },
    {
      "cell_type": "code",
      "source": [
        "X.shape"
      ],
      "metadata": {
        "colab": {
          "base_uri": "https://localhost:8080/"
        },
        "id": "ogZprb7DXOJh",
        "outputId": "a0ae383c-84f5-40c2-acb1-6c3e061ead95"
      },
      "execution_count": 30,
      "outputs": [
        {
          "output_type": "execute_result",
          "data": {
            "text/plain": [
              "(102, 100)"
            ]
          },
          "metadata": {},
          "execution_count": 30
        }
      ]
    },
    {
      "cell_type": "code",
      "source": [
        "Y.shape"
      ],
      "metadata": {
        "colab": {
          "base_uri": "https://localhost:8080/"
        },
        "id": "9NIZCs4HBO4O",
        "outputId": "3df4ebd2-99ea-4827-b3a6-43a163dccee2"
      },
      "execution_count": 29,
      "outputs": [
        {
          "output_type": "execute_result",
          "data": {
            "text/plain": [
              "(102,)"
            ]
          },
          "metadata": {},
          "execution_count": 29
        }
      ]
    },
    {
      "cell_type": "code",
      "source": [
        "#X,Y=load_dataset(df)\n",
        "X=X_new\n",
        "size=X.shape[1]\n",
        "print(X.shape)\n",
        "#ws=create_ws(WB,'sae')\n",
        "#ws.write(0,0,  (size) )\n",
        "print('    Accuracy: recall: precision : F1 score: kappa: AUC  ' )\n",
        "for mo in range(9):\n",
        "    print(names[mo])\n",
        "    row=mo\n",
        "    col=1\n",
        "    scores = cross_val_score(modls[mo], X, Y, scoring='accuracy', cv=cv, n_jobs=-1)\n",
        "    p_scores = cross_val_score(modls[mo], X, Y, scoring='precision_macro', cv=cv, n_jobs=-1)\n",
        "    r_scores = cross_val_score(modls[mo], X, Y, scoring='recall_macro', cv=cv, n_jobs=-1)\n",
        "    f_scores = cross_val_score(modls[mo], X, Y, scoring='f1_macro', cv=cv, n_jobs=-1)\n",
        "    acc=(mean(scores)*100)\n",
        "    re= (mean(r_scores)*100)\n",
        "    pre=(mean(p_scores)*100)\n",
        "    f1=(mean(f_scores)*100)\n",
        "    print('    %.2f   %.2f   %.2f   %.2f' %(acc, re, pre, f1))\n",
        ""
      ],
      "metadata": {
        "colab": {
          "base_uri": "https://localhost:8080/",
          "height": 728
        },
        "collapsed": true,
        "id": "7nP3Hfq0VL_3",
        "outputId": "5dd0e19c-1ce5-4341-a200-2893d475cbd2"
      },
      "execution_count": 36,
      "outputs": [
        {
          "output_type": "stream",
          "name": "stdout",
          "text": [
            "(102, 100)\n",
            "    Accuracy: recall: precision : F1 score: kappa: AUC  \n",
            "RF\n"
          ]
        },
        {
          "output_type": "error",
          "ename": "ValueError",
          "evalue": "\nAll the 2 fits failed.\nIt is very likely that your model is misconfigured.\nYou can try to debug the error by setting error_score='raise'.\n\nBelow are more details about the failures:\n--------------------------------------------------------------------------------\n2 fits failed with the following error:\nTraceback (most recent call last):\n  File \"/usr/local/lib/python3.10/dist-packages/sklearn/model_selection/_validation.py\", line 686, in _fit_and_score\n    estimator.fit(X_train, y_train, **fit_params)\n  File \"/usr/local/lib/python3.10/dist-packages/sklearn/ensemble/_forest.py\", line 385, in fit\n    y, expanded_class_weight = self._validate_y_class_weight(y)\n  File \"/usr/local/lib/python3.10/dist-packages/sklearn/ensemble/_forest.py\", line 746, in _validate_y_class_weight\n    check_classification_targets(y)\n  File \"/usr/local/lib/python3.10/dist-packages/sklearn/utils/multiclass.py\", line 218, in check_classification_targets\n    raise ValueError(\"Unknown label type: %r\" % y_type)\nValueError: Unknown label type: 'unknown'\n",
          "traceback": [
            "\u001b[0;31m---------------------------------------------------------------------------\u001b[0m",
            "\u001b[0;31mValueError\u001b[0m                                Traceback (most recent call last)",
            "\u001b[0;32m<ipython-input-36-f24c86fec1a0>\u001b[0m in \u001b[0;36m<cell line: 9>\u001b[0;34m()\u001b[0m\n\u001b[1;32m     11\u001b[0m     \u001b[0mrow\u001b[0m\u001b[0;34m=\u001b[0m\u001b[0mmo\u001b[0m\u001b[0;34m\u001b[0m\u001b[0;34m\u001b[0m\u001b[0m\n\u001b[1;32m     12\u001b[0m     \u001b[0mcol\u001b[0m\u001b[0;34m=\u001b[0m\u001b[0;36m1\u001b[0m\u001b[0;34m\u001b[0m\u001b[0;34m\u001b[0m\u001b[0m\n\u001b[0;32m---> 13\u001b[0;31m     \u001b[0mscores\u001b[0m \u001b[0;34m=\u001b[0m \u001b[0mcross_val_score\u001b[0m\u001b[0;34m(\u001b[0m\u001b[0mmodls\u001b[0m\u001b[0;34m[\u001b[0m\u001b[0mmo\u001b[0m\u001b[0;34m]\u001b[0m\u001b[0;34m,\u001b[0m \u001b[0mX1\u001b[0m\u001b[0;34m,\u001b[0m \u001b[0mY1\u001b[0m\u001b[0;34m,\u001b[0m \u001b[0mscoring\u001b[0m\u001b[0;34m=\u001b[0m\u001b[0;34m'accuracy'\u001b[0m\u001b[0;34m,\u001b[0m \u001b[0mcv\u001b[0m\u001b[0;34m=\u001b[0m\u001b[0mcv\u001b[0m\u001b[0;34m,\u001b[0m \u001b[0mn_jobs\u001b[0m\u001b[0;34m=\u001b[0m\u001b[0;34m-\u001b[0m\u001b[0;36m1\u001b[0m\u001b[0;34m)\u001b[0m\u001b[0;34m\u001b[0m\u001b[0;34m\u001b[0m\u001b[0m\n\u001b[0m\u001b[1;32m     14\u001b[0m     \u001b[0mp_scores\u001b[0m \u001b[0;34m=\u001b[0m \u001b[0mcross_val_score\u001b[0m\u001b[0;34m(\u001b[0m\u001b[0mmodls\u001b[0m\u001b[0;34m[\u001b[0m\u001b[0mmo\u001b[0m\u001b[0;34m]\u001b[0m\u001b[0;34m,\u001b[0m \u001b[0mX\u001b[0m\u001b[0;34m,\u001b[0m \u001b[0mY\u001b[0m\u001b[0;34m,\u001b[0m \u001b[0mscoring\u001b[0m\u001b[0;34m=\u001b[0m\u001b[0;34m'precision_macro'\u001b[0m\u001b[0;34m,\u001b[0m \u001b[0mcv\u001b[0m\u001b[0;34m=\u001b[0m\u001b[0mcv\u001b[0m\u001b[0;34m,\u001b[0m \u001b[0mn_jobs\u001b[0m\u001b[0;34m=\u001b[0m\u001b[0;34m-\u001b[0m\u001b[0;36m1\u001b[0m\u001b[0;34m)\u001b[0m\u001b[0;34m\u001b[0m\u001b[0;34m\u001b[0m\u001b[0m\n\u001b[1;32m     15\u001b[0m     \u001b[0mr_scores\u001b[0m \u001b[0;34m=\u001b[0m \u001b[0mcross_val_score\u001b[0m\u001b[0;34m(\u001b[0m\u001b[0mmodls\u001b[0m\u001b[0;34m[\u001b[0m\u001b[0mmo\u001b[0m\u001b[0;34m]\u001b[0m\u001b[0;34m,\u001b[0m \u001b[0mX\u001b[0m\u001b[0;34m,\u001b[0m \u001b[0mY\u001b[0m\u001b[0;34m,\u001b[0m \u001b[0mscoring\u001b[0m\u001b[0;34m=\u001b[0m\u001b[0;34m'recall_macro'\u001b[0m\u001b[0;34m,\u001b[0m \u001b[0mcv\u001b[0m\u001b[0;34m=\u001b[0m\u001b[0mcv\u001b[0m\u001b[0;34m,\u001b[0m \u001b[0mn_jobs\u001b[0m\u001b[0;34m=\u001b[0m\u001b[0;34m-\u001b[0m\u001b[0;36m1\u001b[0m\u001b[0;34m)\u001b[0m\u001b[0;34m\u001b[0m\u001b[0;34m\u001b[0m\u001b[0m\n",
            "\u001b[0;32m/usr/local/lib/python3.10/dist-packages/sklearn/model_selection/_validation.py\u001b[0m in \u001b[0;36mcross_val_score\u001b[0;34m(estimator, X, y, groups, scoring, cv, n_jobs, verbose, fit_params, pre_dispatch, error_score)\u001b[0m\n\u001b[1;32m    513\u001b[0m     \u001b[0mscorer\u001b[0m \u001b[0;34m=\u001b[0m \u001b[0mcheck_scoring\u001b[0m\u001b[0;34m(\u001b[0m\u001b[0mestimator\u001b[0m\u001b[0;34m,\u001b[0m \u001b[0mscoring\u001b[0m\u001b[0;34m=\u001b[0m\u001b[0mscoring\u001b[0m\u001b[0;34m)\u001b[0m\u001b[0;34m\u001b[0m\u001b[0;34m\u001b[0m\u001b[0m\n\u001b[1;32m    514\u001b[0m \u001b[0;34m\u001b[0m\u001b[0m\n\u001b[0;32m--> 515\u001b[0;31m     cv_results = cross_validate(\n\u001b[0m\u001b[1;32m    516\u001b[0m         \u001b[0mestimator\u001b[0m\u001b[0;34m=\u001b[0m\u001b[0mestimator\u001b[0m\u001b[0;34m,\u001b[0m\u001b[0;34m\u001b[0m\u001b[0;34m\u001b[0m\u001b[0m\n\u001b[1;32m    517\u001b[0m         \u001b[0mX\u001b[0m\u001b[0;34m=\u001b[0m\u001b[0mX\u001b[0m\u001b[0;34m,\u001b[0m\u001b[0;34m\u001b[0m\u001b[0;34m\u001b[0m\u001b[0m\n",
            "\u001b[0;32m/usr/local/lib/python3.10/dist-packages/sklearn/model_selection/_validation.py\u001b[0m in \u001b[0;36mcross_validate\u001b[0;34m(estimator, X, y, groups, scoring, cv, n_jobs, verbose, fit_params, pre_dispatch, return_train_score, return_estimator, error_score)\u001b[0m\n\u001b[1;32m    283\u001b[0m     )\n\u001b[1;32m    284\u001b[0m \u001b[0;34m\u001b[0m\u001b[0m\n\u001b[0;32m--> 285\u001b[0;31m     \u001b[0m_warn_or_raise_about_fit_failures\u001b[0m\u001b[0;34m(\u001b[0m\u001b[0mresults\u001b[0m\u001b[0;34m,\u001b[0m \u001b[0merror_score\u001b[0m\u001b[0;34m)\u001b[0m\u001b[0;34m\u001b[0m\u001b[0;34m\u001b[0m\u001b[0m\n\u001b[0m\u001b[1;32m    286\u001b[0m \u001b[0;34m\u001b[0m\u001b[0m\n\u001b[1;32m    287\u001b[0m     \u001b[0;31m# For callabe scoring, the return type is only know after calling. If the\u001b[0m\u001b[0;34m\u001b[0m\u001b[0;34m\u001b[0m\u001b[0m\n",
            "\u001b[0;32m/usr/local/lib/python3.10/dist-packages/sklearn/model_selection/_validation.py\u001b[0m in \u001b[0;36m_warn_or_raise_about_fit_failures\u001b[0;34m(results, error_score)\u001b[0m\n\u001b[1;32m    365\u001b[0m                 \u001b[0;34mf\"Below are more details about the failures:\\n{fit_errors_summary}\"\u001b[0m\u001b[0;34m\u001b[0m\u001b[0;34m\u001b[0m\u001b[0m\n\u001b[1;32m    366\u001b[0m             )\n\u001b[0;32m--> 367\u001b[0;31m             \u001b[0;32mraise\u001b[0m \u001b[0mValueError\u001b[0m\u001b[0;34m(\u001b[0m\u001b[0mall_fits_failed_message\u001b[0m\u001b[0;34m)\u001b[0m\u001b[0;34m\u001b[0m\u001b[0;34m\u001b[0m\u001b[0m\n\u001b[0m\u001b[1;32m    368\u001b[0m \u001b[0;34m\u001b[0m\u001b[0m\n\u001b[1;32m    369\u001b[0m         \u001b[0;32melse\u001b[0m\u001b[0;34m:\u001b[0m\u001b[0;34m\u001b[0m\u001b[0;34m\u001b[0m\u001b[0m\n",
            "\u001b[0;31mValueError\u001b[0m: \nAll the 2 fits failed.\nIt is very likely that your model is misconfigured.\nYou can try to debug the error by setting error_score='raise'.\n\nBelow are more details about the failures:\n--------------------------------------------------------------------------------\n2 fits failed with the following error:\nTraceback (most recent call last):\n  File \"/usr/local/lib/python3.10/dist-packages/sklearn/model_selection/_validation.py\", line 686, in _fit_and_score\n    estimator.fit(X_train, y_train, **fit_params)\n  File \"/usr/local/lib/python3.10/dist-packages/sklearn/ensemble/_forest.py\", line 385, in fit\n    y, expanded_class_weight = self._validate_y_class_weight(y)\n  File \"/usr/local/lib/python3.10/dist-packages/sklearn/ensemble/_forest.py\", line 746, in _validate_y_class_weight\n    check_classification_targets(y)\n  File \"/usr/local/lib/python3.10/dist-packages/sklearn/utils/multiclass.py\", line 218, in check_classification_targets\n    raise ValueError(\"Unknown label type: %r\" % y_type)\nValueError: Unknown label type: 'unknown'\n"
          ]
        }
      ]
    },
    {
      "cell_type": "code",
      "source": [
        "#find the hightest weighted genes\n",
        "weight = SAE.get_weights()\n",
        "we_ts1=np.asarray(weight[0])\n",
        "we_ts2=np.asarray(weight[2])\n",
        "we_ts3=np.asarray(weight[4])\n",
        "aa=np.dot(we_ts1,we_ts2)\n",
        "result=np.dot(aa,we_ts3)\n",
        "result.shape"
      ],
      "metadata": {
        "colab": {
          "base_uri": "https://localhost:8080/"
        },
        "id": "tk8vqKZkTdnN",
        "outputId": "0c982b81-6dbe-4a0c-a9d9-7f17ad349ae0"
      },
      "execution_count": 39,
      "outputs": [
        {
          "output_type": "execute_result",
          "data": {
            "text/plain": [
              "(12582, 100)"
            ]
          },
          "metadata": {},
          "execution_count": 39
        }
      ]
    },
    {
      "cell_type": "code",
      "source": [
        "total_gene=result.shape[0]\n",
        "total_node=result.shape[1]\n",
        "gene_weight_list=[]\n",
        "for t_g in range(total_gene):\n",
        "    weight_sum=0\n",
        "\n",
        "    for node in range(total_node):\n",
        "        weight_sum=weight_sum+result[t_g][node]\n",
        "\n",
        "    #print(t_g)\n",
        "    #print(weight_sum)\n",
        "    gene_weight_list.append((t_g,weight_sum))\n",
        "print(t_g)"
      ],
      "metadata": {
        "colab": {
          "base_uri": "https://localhost:8080/"
        },
        "id": "KC9IlVBhT3tL",
        "outputId": "0fd300e8-5898-492d-a0b4-cc1db9f94bf9"
      },
      "execution_count": 40,
      "outputs": [
        {
          "output_type": "stream",
          "name": "stdout",
          "text": [
            "12581\n"
          ]
        }
      ]
    },
    {
      "cell_type": "code",
      "source": [
        "gene_list=sorted(gene_weight_list,key=lambda gene_weight_list: gene_weight_list[1] ,reverse=True)\n",
        "top_gene=gene_list[:50]\n",
        "gen_data = [lis[0] for lis in top_gene]\n",
        "gene_data=np.asarray(gen_data)\n",
        "col_name=[]\n",
        "for col in NEW_dataset.columns:\n",
        "    col_name.append(col)\n",
        "gene_name=[]\n",
        "for ge_name in gene_data:\n",
        "    gene_name.append(col_name[ge_name])"
      ],
      "metadata": {
        "id": "WwAcntTsT-R1"
      },
      "execution_count": 43,
      "outputs": []
    },
    {
      "cell_type": "code",
      "source": [
        "#hightest weighted genes\n",
        "gene_name"
      ],
      "metadata": {
        "colab": {
          "base_uri": "https://localhost:8080/"
        },
        "id": "wOrGlVv_Uqq5",
        "outputId": "a7949d45-d90d-4afc-bce4-83fcc73756de"
      },
      "execution_count": 44,
      "outputs": [
        {
          "output_type": "execute_result",
          "data": {
            "text/plain": [
              "['1214_s_at',\n",
              " '32793_at',\n",
              " '37780_at',\n",
              " '40729_s_at',\n",
              " '40531_at',\n",
              " '1852_at',\n",
              " '34144_at',\n",
              " '31865_at',\n",
              " '33678_i_at',\n",
              " '40155_at',\n",
              " '40367_at',\n",
              " '39812_at',\n",
              " '33977_at',\n",
              " '38995_at',\n",
              " '35258_f_at',\n",
              " '33528_at',\n",
              " '455_at',\n",
              " '587_at',\n",
              " '34882_at',\n",
              " '40922_at',\n",
              " '34482_at',\n",
              " '35449_at',\n",
              " '35555_r_at',\n",
              " '37728_r_at',\n",
              " '1226_at',\n",
              " '32844_at',\n",
              " '37804_at',\n",
              " '1275_at',\n",
              " '32164_at',\n",
              " '41350_at',\n",
              " '2057_g_at',\n",
              " '40677_at',\n",
              " '31859_at',\n",
              " '1365_at',\n",
              " '32921_at',\n",
              " '36156_at',\n",
              " '38193_at',\n",
              " '39822_s_at',\n",
              " '37197_s_at',\n",
              " '39161_at',\n",
              " '41215_s_at',\n",
              " '39829_at',\n",
              " '33958_at',\n",
              " '31970_r_at',\n",
              " '33535_at',\n",
              " '39904_at',\n",
              " '38836_at',\n",
              " '1727_at',\n",
              " '36299_at',\n",
              " '33452_at']"
            ]
          },
          "metadata": {},
          "execution_count": 44
        }
      ]
    }
  ]
}